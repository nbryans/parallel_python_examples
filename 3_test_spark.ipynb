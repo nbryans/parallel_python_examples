{
 "cells": [
  {
   "metadata": {},
   "cell_type": "markdown",
   "source": [
    "Installing Spark on WSL\n",
    "https://medium.com/@salssouza/how-to-install-pyspark-in-wsl-3c4ac0e7f672\n",
    "https://github.com/nicholsonjohnc/spark-wsl-install\n",
    "https://medium.com/@aitmsi/single-node-spark-pyspark-cluster-on-windows-subsystem-for-linux-wsl2-22860888a98d\n",
    "\n",
    "Activate Spark (from WSL terminal)\n",
    "```\n",
    "cd $SPARK_HOME\n",
    "./sbin/start-master.sh\n",
    "./sbin/start-worker.sh spark://ubuntu1:7077\n",
    "```\n",
    "\n",
    "Stop Cluster\n",
    "```\n",
    "cd $SPARK_HOME\n",
    "./sbin/stop-master.sh\n",
    "./sbin/stop-worker.sh\n",
    "```"
   ],
   "id": "1bc292cf041eaaa3"
  },
  {
   "cell_type": "code",
   "id": "initial_id",
   "metadata": {
    "collapsed": true,
    "ExecuteTime": {
     "end_time": "2024-11-28T01:47:28.326891Z",
     "start_time": "2024-11-28T01:47:27.241818Z"
    }
   },
   "source": "from pyspark import SparkContext",
   "outputs": [],
   "execution_count": 3
  },
  {
   "metadata": {
    "ExecuteTime": {
     "end_time": "2024-11-28T01:47:35.345317Z",
     "start_time": "2024-11-28T01:47:29.990165Z"
    }
   },
   "cell_type": "code",
   "source": "sc = SparkContext()",
   "id": "29dc744c2e1d062f",
   "outputs": [
    {
     "name": "stderr",
     "output_type": "stream",
     "text": [
      "24/11/27 18:47:31 WARN Utils: Your hostname, Nathan-Lenovo resolves to a loopback address: 127.0.1.1; using 172.17.72.127 instead (on interface eth0)\n",
      "24/11/27 18:47:31 WARN Utils: Set SPARK_LOCAL_IP if you need to bind to another address\n",
      "WARNING: An illegal reflective access operation has occurred\n",
      "WARNING: Illegal reflective access by org.apache.spark.unsafe.Platform (file:/root/.virtualenvs/ParallelPython/lib/python3.13/site-packages/pyspark/jars/spark-unsafe_2.12-3.1.1.jar) to constructor java.nio.DirectByteBuffer(long,int)\n",
      "WARNING: Please consider reporting this to the maintainers of org.apache.spark.unsafe.Platform\n",
      "WARNING: Use --illegal-access=warn to enable warnings of further illegal reflective access operations\n",
      "WARNING: All illegal access operations will be denied in a future release\n",
      "24/11/27 18:47:33 WARN NativeCodeLoader: Unable to load native-hadoop library for your platform... using builtin-java classes where applicable\n",
      "Using Spark's default log4j profile: org/apache/spark/log4j-defaults.properties\n",
      "Setting default log level to \"WARN\".\n",
      "To adjust logging level use sc.setLogLevel(newLevel). For SparkR, use setLogLevel(newLevel).\n"
     ]
    }
   ],
   "execution_count": 4
  },
  {
   "metadata": {
    "ExecuteTime": {
     "end_time": "2024-11-28T00:45:09.794412Z",
     "start_time": "2024-11-28T00:45:09.765658Z"
    }
   },
   "cell_type": "code",
   "source": "sc",
   "id": "41ed894993926ac0",
   "outputs": [
    {
     "data": {
      "text/plain": [
       "''"
      ]
     },
     "execution_count": 2,
     "metadata": {},
     "output_type": "execute_result"
    }
   ],
   "execution_count": 2
  }
 ],
 "metadata": {
  "kernelspec": {
   "display_name": "Python 3",
   "language": "python",
   "name": "python3"
  },
  "language_info": {
   "codemirror_mode": {
    "name": "ipython",
    "version": 2
   },
   "file_extension": ".py",
   "mimetype": "text/x-python",
   "name": "python",
   "nbconvert_exporter": "python",
   "pygments_lexer": "ipython2",
   "version": "2.7.6"
  }
 },
 "nbformat": 4,
 "nbformat_minor": 5
}
