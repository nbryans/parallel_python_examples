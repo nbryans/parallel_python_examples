{
 "cells": [
  {
   "metadata": {},
   "cell_type": "markdown",
   "source": [
    "Installing Spark on WSL\n",
    "https://medium.com/@salssouza/how-to-install-pyspark-in-wsl-3c4ac0e7f672\n",
    "https://github.com/nicholsonjohnc/spark-wsl-install\n",
    "https://medium.com/@aitmsi/single-node-spark-pyspark-cluster-on-windows-subsystem-for-linux-wsl2-22860888a98d\n",
    "\n",
    "Activate Spark (from WSL terminal)\n",
    "cd $SPARK_HOME\n",
    "./sbin/start-master.sh\n",
    "./sbin/start-worker.sh spark://ubuntu1:7077\n",
    "\n",
    "Stop Cluster\n",
    "cd $SPARK_HOME\n",
    "./sbin/stop-master.sh\n",
    "./sbin/stop-worker.sh"
   ],
   "id": "1bc292cf041eaaa3"
  },
  {
   "cell_type": "code",
   "id": "initial_id",
   "metadata": {
    "collapsed": true,
    "ExecuteTime": {
     "end_time": "2024-11-24T02:48:15.162366Z",
     "start_time": "2024-11-24T02:48:15.004270Z"
    }
   },
   "source": "from pyspark import SparkContext",
   "outputs": [],
   "execution_count": 1
  },
  {
   "metadata": {
    "ExecuteTime": {
     "end_time": "2024-11-24T02:48:21.687880Z",
     "start_time": "2024-11-24T02:48:16.463870Z"
    }
   },
   "cell_type": "code",
   "source": "sc = SparkContext()",
   "id": "29dc744c2e1d062f",
   "outputs": [
    {
     "name": "stderr",
     "output_type": "stream",
     "text": [
      "24/11/23 19:48:18 WARN Utils: Your hostname, Nathan-Lenovo resolves to a loopback address: 127.0.1.1; using 172.31.70.78 instead (on interface eth0)\n",
      "24/11/23 19:48:18 WARN Utils: Set SPARK_LOCAL_IP if you need to bind to another address\n",
      "Setting default log level to \"WARN\".\n",
      "To adjust logging level use sc.setLogLevel(newLevel). For SparkR, use setLogLevel(newLevel).\n",
      "24/11/23 19:48:20 WARN NativeCodeLoader: Unable to load native-hadoop library for your platform... using builtin-java classes where applicable\n",
      "24/11/23 19:48:21 WARN Utils: Service 'SparkUI' could not bind on port 4040. Attempting port 4041.\n"
     ]
    }
   ],
   "execution_count": 2
  },
  {
   "metadata": {
    "ExecuteTime": {
     "end_time": "2024-11-24T02:48:24.656634Z",
     "start_time": "2024-11-24T02:48:24.636248Z"
    }
   },
   "cell_type": "code",
   "source": "sc",
   "id": "41ed894993926ac0",
   "outputs": [
    {
     "data": {
      "text/plain": [
       "<SparkContext master=local[*] appName=pyspark-shell>"
      ],
      "text/html": [
       "\n",
       "        <div>\n",
       "            <p><b>SparkContext</b></p>\n",
       "\n",
       "            <p><a href=\"http://172.31.70.78:4041\">Spark UI</a></p>\n",
       "\n",
       "            <dl>\n",
       "              <dt>Version</dt>\n",
       "                <dd><code>v3.5.3</code></dd>\n",
       "              <dt>Master</dt>\n",
       "                <dd><code>local[*]</code></dd>\n",
       "              <dt>AppName</dt>\n",
       "                <dd><code>pyspark-shell</code></dd>\n",
       "            </dl>\n",
       "        </div>\n",
       "        "
      ]
     },
     "execution_count": 3,
     "metadata": {},
     "output_type": "execute_result"
    }
   ],
   "execution_count": 3
  }
 ],
 "metadata": {
  "kernelspec": {
   "display_name": "Python 3",
   "language": "python",
   "name": "python3"
  },
  "language_info": {
   "codemirror_mode": {
    "name": "ipython",
    "version": 2
   },
   "file_extension": ".py",
   "mimetype": "text/x-python",
   "name": "python",
   "nbconvert_exporter": "python",
   "pygments_lexer": "ipython2",
   "version": "2.7.6"
  }
 },
 "nbformat": 4,
 "nbformat_minor": 5
}
